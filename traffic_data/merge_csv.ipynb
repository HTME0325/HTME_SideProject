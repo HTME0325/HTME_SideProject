{
 "cells": [
  {
   "cell_type": "code",
   "execution_count": null,
   "metadata": {},
   "outputs": [],
   "source": [
    "import pandas as pd\n",
    "import numpy as np\n",
    "import wget \n",
    "import os\n",
    "import zipfile"
   ]
  },
  {
   "cell_type": "code",
   "execution_count": 9,
   "metadata": {},
   "outputs": [],
   "source": [
    "# 創建raw data 資料夾\n",
    "folderPath = \"rawData\"\n",
    "if not os.path.exists(folderPath):\n",
    "    os.makedirs(folderPath)\n",
    "    for year in range(102, 113):\n",
    "        os.makedirs(f\"{folderPath}/{year}\")"
   ]
  },
  {
   "cell_type": "code",
   "execution_count": null,
   "metadata": {},
   "outputs": [],
   "source": [
    "# 下載資料\n",
    "# 公開平台資料沒禮貌，手動下載後需要改102檔名，只有他有A1A2\"類\"\n",
    "# 107-110是用西元年"
   ]
  },
  {
   "cell_type": "code",
   "execution_count": null,
   "metadata": {},
   "outputs": [],
   "source": [
    "# 解壓縮檔案\n",
    "for i in range(107, 113):\n",
    "    with zipfile.ZipFile(f\"./rawData/{i}年傷亡道路交通事故資料.zip\", \"r\") as zip_ref:\n",
    "        zip_ref.extractall(f\"./rawData/{i}\")\n",
    "\n",
    "\n",
    "\n"
   ]
  },
  {
   "cell_type": "code",
   "execution_count": null,
   "metadata": {},
   "outputs": [],
   "source": [
    "# 將107-110 的檔案西元年轉換成民國年\n",
    "for i in range(107, 111):\n",
    "    folderpath = f\"./rawData/{i}\"\n",
    "    for filename in os.listdir(folderpath):\n",
    "        if f\"{i+1911}\" in filename:\n",
    "            \n",
    "            # 將西元年換成民國年\n",
    "            new_filename = filename.replace(f\"{i+1911}\", f\"{i}\")\n",
    "            \n",
    "            # 建立完整路徑\n",
    "            old_file = os.path.join(folderpath, filename)\n",
    "            new_file = os.path.join(folderpath, new_filename)\n",
    "            \n",
    "            # 更換檔名\n",
    "            os.rename(old_file, new_file)\n"
   ]
  },
  {
   "cell_type": "code",
   "execution_count": null,
   "metadata": {},
   "outputs": [],
   "source": [
    "# 把102-106年份CSV檔串在一起成新的CSV\n",
    "for year in range(102, 107):\n",
    "    merge_data = pd.read_csv(f\"./rawData/{year}/{year}年度A1交通事故資料.csv\")[:-2]\n",
    "    data_A2 = pd.read_csv(f\"./rawData/{year}/{year}年度A2交通事故資料.csv\")[:-2]\n",
    "    merge_data = pd.concat([merge_data, data_A2], ignore_index=True)\n",
    "    \n",
    "    merge_data.to_csv(f\"./rawData/{year}A1A2交通事故資料.csv\", index=False)"
   ]
  },
  {
   "cell_type": "code",
   "execution_count": null,
   "metadata": {},
   "outputs": [],
   "source": [
    "# 把107-112年份CSV檔串在一起成新的CSV\n",
    "for year in range(107, 113):\n",
    "    merge_data = pd.read_csv(f\"./rawData/{year}/{year}年度A1交通事故資料.csv\")[:-2]\n",
    "    for month in range(1, 13):\n",
    "        data_A2 = pd.read_csv(f\"./rawData/{year}/{year}年度A2交通事故資料_{month}.csv\")[:-2]\n",
    "        merge_data = pd.concat([merge_data, data_A2], ignore_index=True)\n",
    "    \n",
    "    merge_data.to_csv(f\"./rawData/{year}A1A2交通事故資料.csv\", index=False)\n"
   ]
  }
 ],
 "metadata": {
  "kernelspec": {
   "display_name": "web_scraping",
   "language": "python",
   "name": "python3"
  },
  "language_info": {
   "codemirror_mode": {
    "name": "ipython",
    "version": 3
   },
   "file_extension": ".py",
   "mimetype": "text/x-python",
   "name": "python",
   "nbconvert_exporter": "python",
   "pygments_lexer": "ipython3",
   "version": "3.10.14"
  }
 },
 "nbformat": 4,
 "nbformat_minor": 2
}
