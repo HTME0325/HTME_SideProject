{
 "cells": [
  {
   "cell_type": "code",
   "execution_count": 1,
   "metadata": {},
   "outputs": [],
   "source": [
    "import numpy as np\n",
    "import pandas as pd"
   ]
  },
  {
   "cell_type": "code",
   "execution_count": 22,
   "metadata": {},
   "outputs": [
    {
     "name": "stdout",
     "output_type": "stream",
     "text": [
      "3655860\n"
     ]
    }
   ],
   "source": [
    "count = 0\n",
    "for i in range(102,107):\n",
    "    with open(file=f'../rawData/{i}A1A2交通事故資料.csv', mode='r', encoding=\"utf-8\") as f:\n",
    "        data = f.readlines()\n",
    "    for row in data:\n",
    "        count += 1\n",
    "    count -= 1\n",
    "\n",
    "for i in range(107,113):\n",
    "    df = pd.read_csv(f'../rawData/{i}A1A2交通事故資料.csv')\n",
    "    for row in range(0,len(df)):\n",
    "        if df[\"當事者順位\"][row] == 1.0:\n",
    "            count += 1\n",
    "\n",
    "print(count)\n",
    "    "
   ]
  },
  {
   "cell_type": "code",
   "execution_count": 15,
   "metadata": {},
   "outputs": [
    {
     "data": {
      "text/plain": [
       "np.float64(1.0)"
      ]
     },
     "execution_count": 15,
     "metadata": {},
     "output_type": "execute_result"
    }
   ],
   "source": [
    "df = pd.read_csv('../rawData/107A1A2交通事故資料.csv')\n",
    "\n",
    "\n",
    "df[\"當事者順位\"][0]\n"
   ]
  },
  {
   "cell_type": "code",
   "execution_count": 24,
   "metadata": {},
   "outputs": [
    {
     "name": "stdout",
     "output_type": "stream",
     "text": [
      "1494030\n"
     ]
    }
   ],
   "source": [
    "count = 0\n",
    "for i in range(102,107):\n",
    "    with open(file=f'../rawData/{i}A1A2交通事故資料.csv', mode='r', encoding=\"utf-8\") as f:\n",
    "        data = f.readlines()\n",
    "    for row in data:\n",
    "        count += 1\n",
    "    count -= 1\n",
    "\n",
    "print(count)"
   ]
  }
 ],
 "metadata": {
  "kernelspec": {
   "display_name": "Python 3",
   "language": "python",
   "name": "python3"
  },
  "language_info": {
   "codemirror_mode": {
    "name": "ipython",
    "version": 3
   },
   "file_extension": ".py",
   "mimetype": "text/x-python",
   "name": "python",
   "nbconvert_exporter": "python",
   "pygments_lexer": "ipython3",
   "version": "3.12.4"
  }
 },
 "nbformat": 4,
 "nbformat_minor": 2
}
